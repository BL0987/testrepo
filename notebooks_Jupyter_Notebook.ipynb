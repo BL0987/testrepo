{
  "metadata": {
    "kernelspec": {
      "name": "python",
      "display_name": "Python (Pyodide)",
      "language": "python"
    },
    "language_info": {
      "name": ""
    }
  },
  "nbformat_minor": 4,
  "nbformat": 4,
  "cells": [
    {
      "cell_type": "markdown",
      "source": "<center>\n    <img src=\"https://cf-courses-data.s3.us.cloud-object-storage.appdomain.cloud/IBMDeveloperSkillsNetwork-DS0105EN-SkillsNetwork/labs/Module2/images/SN_web_lightmode.png\" width=\"300\" alt=\"cognitiveclass.ai logo\">\n</center>\n",
      "metadata": {}
    },
    {
      "cell_type": "markdown",
      "source": "#### Add your code below following the instructions given in the course\n",
      "metadata": {}
    },
    {
      "cell_type": "markdown",
      "source": "# My Jupyter Notebook on IBM Watson Studio",
      "metadata": {}
    },
    {
      "cell_type": "markdown",
      "source": "**Ben Lockhart**\nData Scientist",
      "metadata": {}
    },
    {
      "cell_type": "markdown",
      "source": "*I am interested in data science as it is fun to find the hidden order within patterns. I hope this\ncourse will give me the skills to take this interest further.*",
      "metadata": {}
    },
    {
      "cell_type": "markdown",
      "source": "### The follwing code is designed to analyse a number, then tell you if that number is odd or even",
      "metadata": {}
    },
    {
      "cell_type": "code",
      "source": "x = (314)\n\nif x % 2 > 0:\n    print('It is odd')\nelse:\n    print('it is even')",
      "metadata": {
        "trusted": true
      },
      "execution_count": null,
      "outputs": []
    },
    {
      "cell_type": "markdown",
      "source": "***\nABC Rule:\n***\n\n* A\n* B\n* C\n\nis easy as:\n\n1. one\n2. two\n3. three",
      "metadata": {}
    },
    {
      "cell_type": "markdown",
      "source": "**please note - i'm using a macbook that has the m1 chip in it, and apparently this is causing issues \nwhen trying to run python 3. i have tried using homebrew to install python 3.9. i have tried installing\nrosetta2. nothing seems to work at the moment, including running the code in line 5 of this notebook.\nthe code itself should be fine tho, so perhaps you coud test it on your notebook then pass me on this\ngraded assisgnment if it gives you the correct output? thanks in advance, Ben.** ",
      "metadata": {}
    }
  ]
}